{
  "nbformat": 4,
  "nbformat_minor": 0,
  "metadata": {
    "colab": {
      "provenance": [],
      "authorship_tag": "ABX9TyMF9Sx2m+6O+Wr1/j1Nvde1",
      "include_colab_link": true
    },
    "kernelspec": {
      "name": "python3",
      "display_name": "Python 3"
    },
    "language_info": {
      "name": "python"
    }
  },
  "cells": [
    {
      "cell_type": "markdown",
      "metadata": {
        "id": "view-in-github",
        "colab_type": "text"
      },
      "source": [
        "<a href=\"https://colab.research.google.com/github/evgeny-kolonsky/Lab3_MW/blob/main/Lab3_MW.ipynb\" target=\"_parent\"><img src=\"https://colab.research.google.com/assets/colab-badge.svg\" alt=\"Open In Colab\"/></a>"
      ]
    },
    {
      "cell_type": "markdown",
      "source": [
        "#Lab 3  Mechanical Waves\n",
        "\n",
        "Evgeny Kolonsky 2024\n",
        "\n",
        "v.0.1.11 peak analysis"
      ],
      "metadata": {
        "id": "qpcD9y05a3yD"
      }
    },
    {
      "cell_type": "code",
      "source": [
        "import numpy as np\n",
        "from scipy import linalg as LA\n",
        "from matplotlib import pyplot as plt\n",
        "from matplotlib.animation import FuncAnimation\n",
        "from IPython.display import HTML\n",
        "from scipy.signal import find_peaks"
      ],
      "metadata": {
        "id": "nLSp5LVG35HY"
      },
      "execution_count": 25,
      "outputs": []
    },
    {
      "cell_type": "markdown",
      "source": [
        "#Intro"
      ],
      "metadata": {
        "id": "T0T4lJoF38ax"
      }
    },
    {
      "cell_type": "markdown",
      "source": [
        "![overview](https://raw.githubusercontent.com/evgeny-kolonsky/Lab3_MW/refs/heads/main/mech_waves_overview.png)\n"
      ],
      "metadata": {
        "id": "Cl-StMQJ0w4E"
      }
    },
    {
      "cell_type": "markdown",
      "source": [
        "## Natural freqiencies"
      ],
      "metadata": {
        "id": "CqmH9x3I2Sbv"
      }
    },
    {
      "cell_type": "markdown",
      "source": [
        "Motion equataion for a system of $n$ chained osciallators with viscous friction in matrix form is\n",
        "$$\n",
        "M \\ddot x + B \\dot x + K x = 0\n",
        "$$\n",
        "here $M$ - moment inertia matrix, $B$ - friction coefficients matrix, $K$ - angle elastity matrix, $x$ - coordinates (rotation angles) vector.\n",
        "\n",
        "Coordinates vector $x$\n",
        "$$\n",
        "x =  \\begin{bmatrix}\n",
        "      x_1 \\\\\n",
        "      \\vdots\\\\\n",
        "      x_n \\end{bmatrix} ,\n",
        "$$\n",
        "\n",
        "Inertia matrix $M$\n",
        "$$\n",
        "M =  \\begin{bmatrix}\n",
        "      J_1 &     \\\\\n",
        "       &\\ddots & \\\\\n",
        "       &            & J_n\n",
        "      \\end{bmatrix} ,\n",
        "$$\n",
        "Friction matrix $B$\n",
        "$$\n",
        "B =  \\begin{bmatrix}\n",
        "      b_1 &     \\\\\n",
        "       &\\ddots & \\\\\n",
        "       &            & b_n\n",
        "      \\end{bmatrix} ,\n",
        "$$\n",
        "Elastity matrix $K$\n",
        "$$\n",
        "K =  \\begin{bmatrix}\n",
        "      2 k &  -k  &  &         \\\\\n",
        "      -k  &  2k  & -k &          \\\\\n",
        "         & -k   & 2k  & -k &         \\\\\n",
        "      & & &\\ddots & -k\\\\\n",
        "      & &         & -k & 2 k\n",
        "      \\end{bmatrix}\n",
        "$$\n",
        "\n",
        "If $E_i$ is eigenvectors  matrix and $\\lambda_i$  are eigenvalues of matrix $Z = M^{-1}  K$, then natural frequecnies $\\omega_i$ of the system are respective square roots of eigenvalues:\n",
        "$$\n",
        "\\omega_i^2 = \\lambda_i \\quad i = 1,\\cdots, n.\n",
        "$$\n",
        "\n"
      ],
      "metadata": {
        "id": "eMeumpej0UJK"
      }
    },
    {
      "cell_type": "code",
      "source": [
        "# System parameters\n",
        "# wide unit\n",
        "l = 456e-3  # length of a bar\n",
        "m = 43e-3   # mass of a bar\n",
        "J = m * l**2 / 12 # moment of inertia of a bar\n",
        "n = 72  # number of bars in the oscillation system\n",
        "\n",
        "k = 1.02 # elastity coeff\n",
        "\n",
        "K = k * np.diag(np.ones(n) * 2, 0) + \\\n",
        "    np.diag(-np.ones(n-1)   , 1) +  \\\n",
        "    np.diag(-np.ones(n-1)   ,-1)\n",
        "\n",
        "M = np.eye(n) * J\n",
        "\n",
        "\n",
        "\n",
        "\n",
        "Q = 120 # quality factor\n",
        "b =  np.sqrt(J*k) / Q # approx. friction coefficent (at least by order value)\n",
        "\n",
        "B = np.eye(n) * b\n",
        "\n",
        "\n",
        "\n",
        "Km  =  LA.inv(M) @ K\n",
        "Bm  =  LA.inv(M) @ B\n",
        "\n",
        "lambdas, E = LA.eig(Km)\n",
        "omega = np.sqrt(lambdas)\n",
        "\n",
        "freqs = np.real(omega) / 2 / np.pi\n",
        "\n",
        "print(f'Natural frequencies from {np.min(freqs):.2f} Hz to {np.max(freqs):.2f} Hz')"
      ],
      "metadata": {
        "colab": {
          "base_uri": "https://localhost:8080/"
        },
        "id": "3L-qkWSu1iFM",
        "outputId": "56a4eefa-c97e-4660-b85f-d0ea0bfd5698"
      },
      "execution_count": 26,
      "outputs": [
        {
          "output_type": "stream",
          "name": "stdout",
          "text": [
            "Natural frequencies from 1.19 Hz to 11.72 Hz\n"
          ]
        }
      ]
    },
    {
      "cell_type": "markdown",
      "source": [
        "\n",
        "**Numerical solution**\n",
        "\n",
        "We set up new **state variable** $z$:\n",
        "$$\n",
        "z =  [ x_1, \\cdots x_n, \\, \\dot x_1, \\cdots, \\dot x_n ] = [x, \\dot x]\n",
        "$$\n",
        "and it's derivative\n",
        "$$\n",
        "\\dot z =  [ \\dot x, \\ddot x ].\n",
        "$$\n",
        "\n",
        "The motion equation becomes state equation:\n",
        "$$\n",
        "\\dot z =\n",
        "\\begin{bmatrix}\n",
        "\\dot x\\\\\n",
        "\\ddot x\n",
        "\\end{bmatrix}\n",
        " =\n",
        "\\begin{bmatrix}\n",
        "0 & 1\\\\\n",
        "-M^{-1}K & 0\n",
        "\\end{bmatrix}\n",
        "\\begin{bmatrix}\n",
        "x\\\\\n",
        "\\dot x\n",
        "\\end{bmatrix}\n",
        "$$\n",
        "for no-friction no-forces case. Here $0$ and $1$ are zero and identity matricies respectively.\n",
        "\n",
        "The state equation with viscous friction and external forces will be\n",
        "$$\n",
        "\\dot z =\n",
        "\\begin{bmatrix}\n",
        "0 & 1\\\\\n",
        "-M^{-1}K & -M^{-1}B\n",
        "\\end{bmatrix}\n",
        "z\n",
        "+\n",
        "\\begin{bmatrix}\n",
        "0 \\\\\n",
        "M^{-1} F\n",
        "\\end{bmatrix}\n",
        "\\tag{1}\n",
        "$$\n",
        "\n",
        "State equation (1) enables iterative numerical solution by [Heun method](https://en.wikipedia.org/wiki/Heun%27s_method).\n"
      ],
      "metadata": {
        "id": "SN_Az_cDE5jE"
      }
    },
    {
      "cell_type": "code",
      "source": [
        "zeros = np.zeros((n,n))\n",
        "I     = np.eye(n)\n",
        "\n",
        "D = np.vstack([np.hstack([zeros,  I]),\n",
        "               np.hstack([-Km,   -Bm])] \\\n",
        "             )\n",
        "F = np.zeros(n)\n",
        "F2 = np.hstack([np.zeros(n), F])\n",
        "\n",
        "\n",
        "def state_derivative(state, time):\n",
        "  # state - array of x1 .. xn, v1.. vn\n",
        "  # x - coordinates and v - corresponding velocities\n",
        "  # ti - point of time. External force depends on time\n",
        "  zdot = D @ state\n",
        "  F2[n] = k * eta(time) / J  # applied only at leftmost point\n",
        "  zdot += F2\n",
        "  return zdot\n",
        "\n",
        "def heun_step(state, time, dt,etol=0.000001,maxiters = 100):\n",
        "    '''Update a state to the next time increment using the implicit Heun's method.\n",
        "\n",
        "    Arguments\n",
        "    ---------\n",
        "    state : array of dependent variables\n",
        "    dt    : float, time increment\n",
        "    etol  : tolerance in error for each time step corrector\n",
        "    maxiters: maximum number of iterations each time step can take\n",
        "\n",
        "    Returns\n",
        "    -------\n",
        "    next_state : array, updated after one time increment'''\n",
        "    e = 1\n",
        "    eps = np.finfo('float64').eps\n",
        "    next_state = state + state_derivative(state, time) * dt\n",
        "    ################### New iterative correction #########################\n",
        "    for n in range(0, maxiters):\n",
        "        next_state_old = next_state\n",
        "        next_state = state + (state_derivative(state, time) + state_derivative(next_state, time))/2*dt\n",
        "        e = np.sum(np.abs(next_state-next_state_old) / np.abs(next_state+eps))\n",
        "        if e < etol:\n",
        "            break\n",
        "    ############### end of iterative correction #########################\n",
        "    return next_state\n"
      ],
      "metadata": {
        "id": "yE8qktfT4Rpe"
      },
      "execution_count": 27,
      "outputs": []
    },
    {
      "cell_type": "markdown",
      "source": [
        "## Waves propagation"
      ],
      "metadata": {
        "id": "Bc804Pvi8Vha"
      }
    },
    {
      "cell_type": "markdown",
      "source": [
        "\n",
        "wave propagation constant\n",
        "$$\n",
        "\\beta =  \\sqrt{\\frac{k}{J}}\n",
        "$$"
      ],
      "metadata": {
        "id": "yI7L2mCQ90JR"
      }
    },
    {
      "cell_type": "code",
      "source": [
        "# the mechanical wave system\n",
        "L = 920e-3 # length of the system\n",
        "d = 1.27e-2  # m,distance between bars\n",
        "\n",
        "beta = np.sqrt(k/J)\n",
        "v = d * beta\n",
        "\n",
        "print(f'wave velocity expected {v*100:.0f} cm/s, {beta:.0f} bar/s')\n",
        "\n"
      ],
      "metadata": {
        "id": "8UEAPSxCufF5",
        "colab": {
          "base_uri": "https://localhost:8080/"
        },
        "outputId": "a4e82c58-1f16-44db-a1a6-837c89d976dc"
      },
      "execution_count": 86,
      "outputs": [
        {
          "output_type": "stream",
          "name": "stdout",
          "text": [
            "wave velocity expected 47 cm/s, 37 bar/s\n"
          ]
        }
      ]
    },
    {
      "cell_type": "markdown",
      "source": [
        "# Integrate numerically"
      ],
      "metadata": {
        "id": "irS5ZnppKF4P"
      }
    },
    {
      "cell_type": "markdown",
      "source": [
        "Define external force profile"
      ],
      "metadata": {
        "id": "XddUG8v7FxRv"
      }
    },
    {
      "cell_type": "code",
      "source": [
        "# External harmonic force\n",
        "order = 12.8 # harmonic order\n",
        "freq_external = order * v /  4 / L # Hz, displacement frequency\n",
        "eta0 = 1.0 # radian    displacement amplitude\n",
        "print(f'external force frequency {freq_external:.2f} Hz')\n",
        "\n",
        "# initial beat at the right end\n",
        "eta = lambda t: np.sin(2*np.pi*freq_external*t) * eta0 # if t < 1/freq_external/8 else 0\n"
      ],
      "metadata": {
        "colab": {
          "base_uri": "https://localhost:8080/"
        },
        "id": "dHHi3C81F2fb",
        "outputId": "0731f84b-f70d-41db-9f03-0464da2048c6"
      },
      "execution_count": 183,
      "outputs": [
        {
          "output_type": "stream",
          "name": "stdout",
          "text": [
            "external force frequency 1.63 Hz\n"
          ]
        }
      ]
    },
    {
      "cell_type": "markdown",
      "source": [
        "Integrate numerically"
      ],
      "metadata": {
        "id": "py8cheKKGEis"
      }
    },
    {
      "cell_type": "code",
      "source": [
        "T = 16 * L / v # time to travel there and back again twice\n",
        "dt = 1 / np.max(freqs) / 4 # shortest period / 4\n",
        "\n",
        "\n",
        "t = np.arange(0, T, dt)\n",
        "N = len(t)  # steps in time\n",
        "\n",
        "state = np.zeros((2 * n, N))\n",
        "\n",
        "for i in range(0, N-1):\n",
        "    state[:,i+1] = heun_step(state[:,i], t[i], dt)\n",
        "\n",
        "print(f'Integrate for {N} steps {T:.1f} s')"
      ],
      "metadata": {
        "colab": {
          "base_uri": "https://localhost:8080/"
        },
        "id": "XhWeGO9fGDzJ",
        "outputId": "362a2291-628d-469c-ff03-c562c3d6966b"
      },
      "execution_count": 184,
      "outputs": [
        {
          "output_type": "stream",
          "name": "stdout",
          "text": [
            "Integrate for 1469 steps 31.3 s\n"
          ]
        }
      ]
    },
    {
      "cell_type": "markdown",
      "source": [
        "Animate"
      ],
      "metadata": {
        "id": "GUKx63frKEJo"
      }
    },
    {
      "cell_type": "code",
      "source": [
        "fig, ax = plt.subplots(figsize=(20, 5))\n",
        "x = np.linspace(0, L, n)\n",
        "y = np.copy(state[:n, 0])\n",
        "y[0] = 1.0 * eta0 # vertical scale\n",
        "y[-1] = - y[0]\n",
        "bottom = 0\n",
        "h_stem = ax.stem(x, y, bottom=bottom,  linefmt='-', markerfmt='o', label='Time');\n",
        "legend = ax.legend(fontsize=\"20\", loc =\"upper left\") #Define legend objects\n",
        "ax.grid(axis='x')\n",
        "ax.set_xticks([0, L/2, L])\n",
        "\n",
        "def update(i):\n",
        "    y = state[:n, i]\n",
        "\n",
        "    # markerline\n",
        "    h_stem[0].set_ydata(y)\n",
        "    #h_stem[0].set_xdata(x)  # not necessary for constant x\n",
        "\n",
        "    # stemlines\n",
        "    h_stem[1].set_paths([np.array([[xx, bottom],\n",
        "                                   [xx, yy]]) for (xx, yy) in zip(x, y)])\n",
        "\n",
        "    # baseline\n",
        "    h_stem[2].set_xdata([np.min(x), np.max(x)])\n",
        "    #h_stem[2].set_ydata([bottom, bottom])  # not necessary for constant bottom\n",
        "    legend.get_texts()[0].set_text(f'{t[i]:.2f} s') #Update label each at frame\n",
        "\n",
        "anim = FuncAnimation(fig, update, frames=range(0, N,1), interval=1*dt)\n",
        "anim.save('so.gif', dpi=80)"
      ],
      "metadata": {
        "colab": {
          "base_uri": "https://localhost:8080/",
          "height": 845
        },
        "id": "gAi2ndLSl2Q7",
        "outputId": "1143dbaa-63b5-4549-fe7c-a1583c3780f2",
        "collapsed": true
      },
      "execution_count": 176,
      "outputs": [
        {
          "output_type": "stream",
          "name": "stderr",
          "text": [
            "WARNING:matplotlib.animation:MovieWriter stderr:\n",
            "[rawvideo @ 0x5825d9174940] Invalid buffer size, packet size 1835008 < expected frame_size 2560000\n",
            "Error while decoding stream #0:0: Invalid argument\n",
            "Error writing trailer of so.gif: Invalid argument\n",
            "\n"
          ]
        },
        {
          "output_type": "error",
          "ename": "CalledProcessError",
          "evalue": "Command '['ffmpeg', '-f', 'rawvideo', '-vcodec', 'rawvideo', '-s', '1600x400', '-pix_fmt', 'rgba', '-framerate', '46866.530473514606', '-loglevel', 'error', '-i', 'pipe:', '-filter_complex', 'split [a][b];[a] palettegen [p];[b][p] paletteuse', '-y', 'so.gif']' returned non-zero exit status 255.",
          "traceback": [
            "\u001b[0;31m---------------------------------------------------------------------------\u001b[0m",
            "\u001b[0;31mKeyboardInterrupt\u001b[0m                         Traceback (most recent call last)",
            "\u001b[0;32m/usr/local/lib/python3.10/dist-packages/matplotlib/animation.py\u001b[0m in \u001b[0;36msaving\u001b[0;34m(self, fig, outfile, dpi, *args, **kwargs)\u001b[0m\n\u001b[1;32m    242\u001b[0m             \u001b[0;32mtry\u001b[0m\u001b[0;34m:\u001b[0m\u001b[0;34m\u001b[0m\u001b[0;34m\u001b[0m\u001b[0m\n\u001b[0;32m--> 243\u001b[0;31m                 \u001b[0;32myield\u001b[0m \u001b[0mself\u001b[0m\u001b[0;34m\u001b[0m\u001b[0;34m\u001b[0m\u001b[0m\n\u001b[0m\u001b[1;32m    244\u001b[0m             \u001b[0;32mfinally\u001b[0m\u001b[0;34m:\u001b[0m\u001b[0;34m\u001b[0m\u001b[0;34m\u001b[0m\u001b[0m\n",
            "\u001b[0;32m/usr/local/lib/python3.10/dist-packages/matplotlib/animation.py\u001b[0m in \u001b[0;36msave\u001b[0;34m(self, filename, writer, fps, dpi, codec, bitrate, extra_args, metadata, extra_anim, savefig_kwargs, progress_callback)\u001b[0m\n\u001b[1;32m   1108\u001b[0m                         \u001b[0mframe_number\u001b[0m \u001b[0;34m+=\u001b[0m \u001b[0;36m1\u001b[0m\u001b[0;34m\u001b[0m\u001b[0;34m\u001b[0m\u001b[0m\n\u001b[0;32m-> 1109\u001b[0;31m                 \u001b[0mwriter\u001b[0m\u001b[0;34m.\u001b[0m\u001b[0mgrab_frame\u001b[0m\u001b[0;34m(\u001b[0m\u001b[0;34m**\u001b[0m\u001b[0msavefig_kwargs\u001b[0m\u001b[0;34m)\u001b[0m\u001b[0;34m\u001b[0m\u001b[0;34m\u001b[0m\u001b[0m\n\u001b[0m\u001b[1;32m   1110\u001b[0m \u001b[0;34m\u001b[0m\u001b[0m\n",
            "\u001b[0;32m/usr/local/lib/python3.10/dist-packages/matplotlib/animation.py\u001b[0m in \u001b[0;36mgrab_frame\u001b[0;34m(self, **savefig_kwargs)\u001b[0m\n\u001b[1;32m    370\u001b[0m         \u001b[0;31m# Save the figure data to the sink, using the frame format and dpi.\u001b[0m\u001b[0;34m\u001b[0m\u001b[0;34m\u001b[0m\u001b[0m\n\u001b[0;32m--> 371\u001b[0;31m         self.fig.savefig(self._proc.stdin, format=self.frame_format,\n\u001b[0m\u001b[1;32m    372\u001b[0m                          dpi=self.dpi, **savefig_kwargs)\n",
            "\u001b[0;32m/usr/local/lib/python3.10/dist-packages/matplotlib/figure.py\u001b[0m in \u001b[0;36msavefig\u001b[0;34m(self, fname, transparent, **kwargs)\u001b[0m\n\u001b[1;32m   3389\u001b[0m                     \u001b[0m_recursively_make_axes_transparent\u001b[0m\u001b[0;34m(\u001b[0m\u001b[0mstack\u001b[0m\u001b[0;34m,\u001b[0m \u001b[0max\u001b[0m\u001b[0;34m)\u001b[0m\u001b[0;34m\u001b[0m\u001b[0;34m\u001b[0m\u001b[0m\n\u001b[0;32m-> 3390\u001b[0;31m             \u001b[0mself\u001b[0m\u001b[0;34m.\u001b[0m\u001b[0mcanvas\u001b[0m\u001b[0;34m.\u001b[0m\u001b[0mprint_figure\u001b[0m\u001b[0;34m(\u001b[0m\u001b[0mfname\u001b[0m\u001b[0;34m,\u001b[0m \u001b[0;34m**\u001b[0m\u001b[0mkwargs\u001b[0m\u001b[0;34m)\u001b[0m\u001b[0;34m\u001b[0m\u001b[0;34m\u001b[0m\u001b[0m\n\u001b[0m\u001b[1;32m   3391\u001b[0m \u001b[0;34m\u001b[0m\u001b[0m\n",
            "\u001b[0;32m/usr/local/lib/python3.10/dist-packages/matplotlib/backend_bases.py\u001b[0m in \u001b[0;36mprint_figure\u001b[0;34m(self, filename, dpi, facecolor, edgecolor, orientation, format, bbox_inches, pad_inches, bbox_extra_artists, backend, **kwargs)\u001b[0m\n\u001b[1;32m   2186\u001b[0m                 \u001b[0;32mwith\u001b[0m \u001b[0mcbook\u001b[0m\u001b[0;34m.\u001b[0m\u001b[0m_setattr_cm\u001b[0m\u001b[0;34m(\u001b[0m\u001b[0mself\u001b[0m\u001b[0;34m.\u001b[0m\u001b[0mfigure\u001b[0m\u001b[0;34m,\u001b[0m \u001b[0mdpi\u001b[0m\u001b[0;34m=\u001b[0m\u001b[0mdpi\u001b[0m\u001b[0;34m)\u001b[0m\u001b[0;34m:\u001b[0m\u001b[0;34m\u001b[0m\u001b[0;34m\u001b[0m\u001b[0m\n\u001b[0;32m-> 2187\u001b[0;31m                     result = print_method(\n\u001b[0m\u001b[1;32m   2188\u001b[0m                         \u001b[0mfilename\u001b[0m\u001b[0;34m,\u001b[0m\u001b[0;34m\u001b[0m\u001b[0;34m\u001b[0m\u001b[0m\n",
            "\u001b[0;32m/usr/local/lib/python3.10/dist-packages/matplotlib/backend_bases.py\u001b[0m in \u001b[0;36m<lambda>\u001b[0;34m(*args, **kwargs)\u001b[0m\n\u001b[1;32m   2042\u001b[0m             \u001b[0mskip\u001b[0m \u001b[0;34m=\u001b[0m \u001b[0moptional_kws\u001b[0m \u001b[0;34m-\u001b[0m \u001b[0;34m{\u001b[0m\u001b[0;34m*\u001b[0m\u001b[0minspect\u001b[0m\u001b[0;34m.\u001b[0m\u001b[0msignature\u001b[0m\u001b[0;34m(\u001b[0m\u001b[0mmeth\u001b[0m\u001b[0;34m)\u001b[0m\u001b[0;34m.\u001b[0m\u001b[0mparameters\u001b[0m\u001b[0;34m}\u001b[0m\u001b[0;34m\u001b[0m\u001b[0;34m\u001b[0m\u001b[0m\n\u001b[0;32m-> 2043\u001b[0;31m             print_method = functools.wraps(meth)(lambda *args, **kwargs: meth(\n\u001b[0m\u001b[1;32m   2044\u001b[0m                 *args, **{k: v for k, v in kwargs.items() if k not in skip}))\n",
            "\u001b[0;32m/usr/local/lib/python3.10/dist-packages/matplotlib/backends/backend_agg.py\u001b[0m in \u001b[0;36mprint_raw\u001b[0;34m(self, filename_or_obj, metadata)\u001b[0m\n\u001b[1;32m    435\u001b[0m         \u001b[0;32mwith\u001b[0m \u001b[0mcbook\u001b[0m\u001b[0;34m.\u001b[0m\u001b[0mopen_file_cm\u001b[0m\u001b[0;34m(\u001b[0m\u001b[0mfilename_or_obj\u001b[0m\u001b[0;34m,\u001b[0m \u001b[0;34m\"wb\"\u001b[0m\u001b[0;34m)\u001b[0m \u001b[0;32mas\u001b[0m \u001b[0mfh\u001b[0m\u001b[0;34m:\u001b[0m\u001b[0;34m\u001b[0m\u001b[0;34m\u001b[0m\u001b[0m\n\u001b[0;32m--> 436\u001b[0;31m             \u001b[0mfh\u001b[0m\u001b[0;34m.\u001b[0m\u001b[0mwrite\u001b[0m\u001b[0;34m(\u001b[0m\u001b[0mrenderer\u001b[0m\u001b[0;34m.\u001b[0m\u001b[0mbuffer_rgba\u001b[0m\u001b[0;34m(\u001b[0m\u001b[0;34m)\u001b[0m\u001b[0;34m)\u001b[0m\u001b[0;34m\u001b[0m\u001b[0;34m\u001b[0m\u001b[0m\n\u001b[0m\u001b[1;32m    437\u001b[0m \u001b[0;34m\u001b[0m\u001b[0m\n",
            "\u001b[0;31mKeyboardInterrupt\u001b[0m: ",
            "\nDuring handling of the above exception, another exception occurred:\n",
            "\u001b[0;31mCalledProcessError\u001b[0m                        Traceback (most recent call last)",
            "\u001b[0;32m<ipython-input-176-fe46993c84a5>\u001b[0m in \u001b[0;36m<cell line: 29>\u001b[0;34m()\u001b[0m\n\u001b[1;32m     27\u001b[0m \u001b[0;34m\u001b[0m\u001b[0m\n\u001b[1;32m     28\u001b[0m \u001b[0manim\u001b[0m \u001b[0;34m=\u001b[0m \u001b[0mFuncAnimation\u001b[0m\u001b[0;34m(\u001b[0m\u001b[0mfig\u001b[0m\u001b[0;34m,\u001b[0m \u001b[0mupdate\u001b[0m\u001b[0;34m,\u001b[0m \u001b[0mframes\u001b[0m\u001b[0;34m=\u001b[0m\u001b[0mrange\u001b[0m\u001b[0;34m(\u001b[0m\u001b[0;36m0\u001b[0m\u001b[0;34m,\u001b[0m \u001b[0mN\u001b[0m\u001b[0;34m,\u001b[0m\u001b[0;36m1\u001b[0m\u001b[0;34m)\u001b[0m\u001b[0;34m,\u001b[0m \u001b[0minterval\u001b[0m\u001b[0;34m=\u001b[0m\u001b[0;36m1\u001b[0m\u001b[0;34m*\u001b[0m\u001b[0mdt\u001b[0m\u001b[0;34m)\u001b[0m\u001b[0;34m\u001b[0m\u001b[0;34m\u001b[0m\u001b[0m\n\u001b[0;32m---> 29\u001b[0;31m \u001b[0manim\u001b[0m\u001b[0;34m.\u001b[0m\u001b[0msave\u001b[0m\u001b[0;34m(\u001b[0m\u001b[0;34m'so.gif'\u001b[0m\u001b[0;34m,\u001b[0m \u001b[0mdpi\u001b[0m\u001b[0;34m=\u001b[0m\u001b[0;36m80\u001b[0m\u001b[0;34m)\u001b[0m\u001b[0;34m\u001b[0m\u001b[0;34m\u001b[0m\u001b[0m\n\u001b[0m",
            "\u001b[0;32m/usr/local/lib/python3.10/dist-packages/matplotlib/animation.py\u001b[0m in \u001b[0;36msave\u001b[0;34m(self, filename, writer, fps, dpi, codec, bitrate, extra_args, metadata, extra_anim, savefig_kwargs, progress_callback)\u001b[0m\n\u001b[1;32m   1087\u001b[0m         \u001b[0;31m# callback a no-op; canvas.manager = None prevents resizing the GUI\u001b[0m\u001b[0;34m\u001b[0m\u001b[0;34m\u001b[0m\u001b[0m\n\u001b[1;32m   1088\u001b[0m         \u001b[0;31m# widget (both are likewise done in savefig()).\u001b[0m\u001b[0;34m\u001b[0m\u001b[0;34m\u001b[0m\u001b[0m\n\u001b[0;32m-> 1089\u001b[0;31m         \u001b[0;32mwith\u001b[0m \u001b[0mwriter\u001b[0m\u001b[0;34m.\u001b[0m\u001b[0msaving\u001b[0m\u001b[0;34m(\u001b[0m\u001b[0mself\u001b[0m\u001b[0;34m.\u001b[0m\u001b[0m_fig\u001b[0m\u001b[0;34m,\u001b[0m \u001b[0mfilename\u001b[0m\u001b[0;34m,\u001b[0m \u001b[0mdpi\u001b[0m\u001b[0;34m)\u001b[0m\u001b[0;34m,\u001b[0m\u001b[0;31m \u001b[0m\u001b[0;31m\\\u001b[0m\u001b[0;34m\u001b[0m\u001b[0;34m\u001b[0m\u001b[0m\n\u001b[0m\u001b[1;32m   1090\u001b[0m              \u001b[0mcbook\u001b[0m\u001b[0;34m.\u001b[0m\u001b[0m_setattr_cm\u001b[0m\u001b[0;34m(\u001b[0m\u001b[0mself\u001b[0m\u001b[0;34m.\u001b[0m\u001b[0m_fig\u001b[0m\u001b[0;34m.\u001b[0m\u001b[0mcanvas\u001b[0m\u001b[0;34m,\u001b[0m \u001b[0m_is_saving\u001b[0m\u001b[0;34m=\u001b[0m\u001b[0;32mTrue\u001b[0m\u001b[0;34m,\u001b[0m \u001b[0mmanager\u001b[0m\u001b[0;34m=\u001b[0m\u001b[0;32mNone\u001b[0m\u001b[0;34m)\u001b[0m\u001b[0;34m:\u001b[0m\u001b[0;34m\u001b[0m\u001b[0;34m\u001b[0m\u001b[0m\n\u001b[1;32m   1091\u001b[0m             \u001b[0;32mfor\u001b[0m \u001b[0manim\u001b[0m \u001b[0;32min\u001b[0m \u001b[0mall_anim\u001b[0m\u001b[0;34m:\u001b[0m\u001b[0;34m\u001b[0m\u001b[0;34m\u001b[0m\u001b[0m\n",
            "\u001b[0;32m/usr/lib/python3.10/contextlib.py\u001b[0m in \u001b[0;36m__exit__\u001b[0;34m(self, typ, value, traceback)\u001b[0m\n\u001b[1;32m    151\u001b[0m                 \u001b[0mvalue\u001b[0m \u001b[0;34m=\u001b[0m \u001b[0mtyp\u001b[0m\u001b[0;34m(\u001b[0m\u001b[0;34m)\u001b[0m\u001b[0;34m\u001b[0m\u001b[0;34m\u001b[0m\u001b[0m\n\u001b[1;32m    152\u001b[0m             \u001b[0;32mtry\u001b[0m\u001b[0;34m:\u001b[0m\u001b[0;34m\u001b[0m\u001b[0;34m\u001b[0m\u001b[0m\n\u001b[0;32m--> 153\u001b[0;31m                 \u001b[0mself\u001b[0m\u001b[0;34m.\u001b[0m\u001b[0mgen\u001b[0m\u001b[0;34m.\u001b[0m\u001b[0mthrow\u001b[0m\u001b[0;34m(\u001b[0m\u001b[0mtyp\u001b[0m\u001b[0;34m,\u001b[0m \u001b[0mvalue\u001b[0m\u001b[0;34m,\u001b[0m \u001b[0mtraceback\u001b[0m\u001b[0;34m)\u001b[0m\u001b[0;34m\u001b[0m\u001b[0;34m\u001b[0m\u001b[0m\n\u001b[0m\u001b[1;32m    154\u001b[0m             \u001b[0;32mexcept\u001b[0m \u001b[0mStopIteration\u001b[0m \u001b[0;32mas\u001b[0m \u001b[0mexc\u001b[0m\u001b[0;34m:\u001b[0m\u001b[0;34m\u001b[0m\u001b[0;34m\u001b[0m\u001b[0m\n\u001b[1;32m    155\u001b[0m                 \u001b[0;31m# Suppress StopIteration *unless* it's the same exception that\u001b[0m\u001b[0;34m\u001b[0m\u001b[0;34m\u001b[0m\u001b[0m\n",
            "\u001b[0;32m/usr/local/lib/python3.10/dist-packages/matplotlib/animation.py\u001b[0m in \u001b[0;36msaving\u001b[0;34m(self, fig, outfile, dpi, *args, **kwargs)\u001b[0m\n\u001b[1;32m    243\u001b[0m                 \u001b[0;32myield\u001b[0m \u001b[0mself\u001b[0m\u001b[0;34m\u001b[0m\u001b[0;34m\u001b[0m\u001b[0m\n\u001b[1;32m    244\u001b[0m             \u001b[0;32mfinally\u001b[0m\u001b[0;34m:\u001b[0m\u001b[0;34m\u001b[0m\u001b[0;34m\u001b[0m\u001b[0m\n\u001b[0;32m--> 245\u001b[0;31m                 \u001b[0mself\u001b[0m\u001b[0;34m.\u001b[0m\u001b[0mfinish\u001b[0m\u001b[0;34m(\u001b[0m\u001b[0;34m)\u001b[0m\u001b[0;34m\u001b[0m\u001b[0;34m\u001b[0m\u001b[0m\n\u001b[0m\u001b[1;32m    246\u001b[0m \u001b[0;34m\u001b[0m\u001b[0m\n\u001b[1;32m    247\u001b[0m \u001b[0;34m\u001b[0m\u001b[0m\n",
            "\u001b[0;32m/usr/local/lib/python3.10/dist-packages/matplotlib/animation.py\u001b[0m in \u001b[0;36mfinish\u001b[0;34m(self)\u001b[0m\n\u001b[1;32m    358\u001b[0m                 \"MovieWriter stderr:\\n%s\", err)\n\u001b[1;32m    359\u001b[0m         \u001b[0;32mif\u001b[0m \u001b[0mself\u001b[0m\u001b[0;34m.\u001b[0m\u001b[0m_proc\u001b[0m\u001b[0;34m.\u001b[0m\u001b[0mreturncode\u001b[0m\u001b[0;34m:\u001b[0m\u001b[0;34m\u001b[0m\u001b[0;34m\u001b[0m\u001b[0m\n\u001b[0;32m--> 360\u001b[0;31m             raise subprocess.CalledProcessError(\n\u001b[0m\u001b[1;32m    361\u001b[0m                 self._proc.returncode, self._proc.args, out, err)\n\u001b[1;32m    362\u001b[0m \u001b[0;34m\u001b[0m\u001b[0m\n",
            "\u001b[0;31mCalledProcessError\u001b[0m: Command '['ffmpeg', '-f', 'rawvideo', '-vcodec', 'rawvideo', '-s', '1600x400', '-pix_fmt', 'rgba', '-framerate', '46866.530473514606', '-loglevel', 'error', '-i', 'pipe:', '-filter_complex', 'split [a][b];[a] palettegen [p];[b][p] paletteuse', '-y', 'so.gif']' returned non-zero exit status 255."
          ]
        },
        {
          "output_type": "display_data",
          "data": {
            "text/plain": [
              "<Figure size 2000x500 with 1 Axes>"
            ],
            "image/png": "[encoded data removed]"
          },
          "metadata": {}
        }
      ]
    },
    {
      "cell_type": "code",
      "source": [],
      "metadata": {
        "id": "VyPO1LitAEO9"
      },
      "execution_count": 32,
      "outputs": []
    },
    {
      "cell_type": "markdown",
      "source": [
        "**References**\n",
        "\n",
        "Charles G. Torre\n",
        "Department of Physics, Utah State University\n",
        "04 Linear Chain of Coupled Oscillators [.pdf](https://digitalcommons.usu.edu/foundation_wave/19/)\n",
        "\n",
        "\n",
        "Computational Mechanics 5 - Good Vibrations [.ipynb](https://cooperrc.github.io/computational-mechanics/module_05/03_Good_Vibrations.html#./02_Keep_it_steady.ipynb)"
      ],
      "metadata": {
        "id": "5ASbwdLE1XxE"
      }
    },
    {
      "cell_type": "markdown",
      "source": [
        "Plot peaks development in time"
      ],
      "metadata": {
        "id": "xf-MLdZ9IUav"
      }
    },
    {
      "cell_type": "code",
      "source": [
        "right_peaks = []\n",
        "for i, time in enumerate(t):\n",
        "  y = state[:n, i]\n",
        "  peaks, _ = find_peaks(np.sqrt(y*y), height=0.1)\n",
        "  if len(peaks) > 0:\n",
        "    right_peaks.append(np.max(peaks))\n",
        "  else:\n",
        "    right_peaks.append(0)\n",
        "\n",
        "plt.plot(t, right_peaks,'.')\n",
        "#plt.xlim(0.3,1)\n",
        "#plt.ylim(0,30)\n",
        "plt.grid()"
      ],
      "metadata": {
        "id": "ok9KRKGLgUwm",
        "outputId": "2b09f827-a6d3-4f58-a8d6-440441b7f526",
        "colab": {
          "base_uri": "https://localhost:8080/",
          "height": 430
        }
      },
      "execution_count": 185,
      "outputs": [
        {
          "output_type": "display_data",
          "data": {
            "text/plain": [
              "<Figure size 640x480 with 1 Axes>"
            ],
            "image/png": "[encoded data removed]"
          },
          "metadata": {}
        }
      ]
    },
    {
      "cell_type": "code",
      "source": [
        "right_peaks = np.array([])\n",
        "for i, time in enumerate(t):\n",
        "  y = state[:n, i]  # focus on right half, far from actuator\n",
        "  peaks, _ = find_peaks(np.sqrt(y*y), height=0.1)\n",
        "  if len(peaks) > 0:\n",
        "    right_peaks = np.hstack([right_peaks, peaks])\n",
        "\n",
        "plt.hist(right_peaks, histtype='step', bins=np.arange(0,n)-0.5, density=True)\n"
      ],
      "metadata": {
        "collapsed": true,
        "id": "-x2lIYcZh-_M",
        "outputId": "188b9bde-5cf7-48db-aaf5-5385995dae21",
        "colab": {
          "base_uri": "https://localhost:8080/",
          "height": 847
        }
      },
      "execution_count": 186,
      "outputs": [
        {
          "output_type": "execute_result",
          "data": {
            "text/plain": [
              "(array([0.        , 0.03304509, 0.02825818, 0.01868437, 0.01297097,\n",
              "        0.01050031, 0.00833848, 0.00648548, 0.00694873, 0.00617665,\n",
              "        0.00679432, 0.00679432, 0.00818406, 0.00864731, 0.01389747,\n",
              "        0.02208153, 0.03227301, 0.04014824, 0.02887585, 0.01714021,\n",
              "        0.01034589, 0.00787523, 0.00648548, 0.0066399 , 0.00463249,\n",
              "        0.00463249, 0.00525015, 0.00509574, 0.00679432, 0.00833848,\n",
              "        0.01266214, 0.02362569, 0.04246448, 0.05142063, 0.02408894,\n",
              "        0.01219889, 0.00787523, 0.00525015, 0.0057134 , 0.00370599,\n",
              "        0.00401482, 0.00293391, 0.00355158, 0.00432366, 0.00416924,\n",
              "        0.00602224, 0.01096356, 0.02347128, 0.06964175, 0.05265596,\n",
              "        0.0160593 , 0.00741198, 0.0057134 , 0.00447807, 0.00200741,\n",
              "        0.00216183, 0.00169858, 0.00154416, 0.001853  , 0.00169858,\n",
              "        0.00247066, 0.00231624, 0.00602224, 0.01698579, 0.13804818,\n",
              "        0.0284126 , 0.00386041, 0.00169858, 0.00138975, 0.00077208,\n",
              "        0.00030883]),\n",
              " array([-0.5,  0.5,  1.5,  2.5,  3.5,  4.5,  5.5,  6.5,  7.5,  8.5,  9.5,\n",
              "        10.5, 11.5, 12.5, 13.5, 14.5, 15.5, 16.5, 17.5, 18.5, 19.5, 20.5,\n",
              "        21.5, 22.5, 23.5, 24.5, 25.5, 26.5, 27.5, 28.5, 29.5, 30.5, 31.5,\n",
              "        32.5, 33.5, 34.5, 35.5, 36.5, 37.5, 38.5, 39.5, 40.5, 41.5, 42.5,\n",
              "        43.5, 44.5, 45.5, 46.5, 47.5, 48.5, 49.5, 50.5, 51.5, 52.5, 53.5,\n",
              "        54.5, 55.5, 56.5, 57.5, 58.5, 59.5, 60.5, 61.5, 62.5, 63.5, 64.5,\n",
              "        65.5, 66.5, 67.5, 68.5, 69.5, 70.5]),\n",
              " [<matplotlib.patches.Polygon at 0x7b638479c580>])"
            ]
          },
          "metadata": {},
          "execution_count": 186
        },
        {
          "output_type": "display_data",
          "data": {
            "text/plain": [
              "<Figure size 640x480 with 1 Axes>"
            ],
            "image/png": "[encoded data removed]"
          },
          "metadata": {}
        }
      ]
    },
    {
      "cell_type": "code",
      "source": [],
      "metadata": {
        "id": "17hb5-hPjg2U"
      },
      "execution_count": 35,
      "outputs": []
    }
  ]
}