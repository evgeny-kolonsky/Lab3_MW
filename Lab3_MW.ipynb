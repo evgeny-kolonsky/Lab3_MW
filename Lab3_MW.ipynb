{
  "nbformat": 4,
  "nbformat_minor": 0,
  "metadata": {
    "colab": {
      "provenance": [],
      "authorship_tag": "ABX9TyObVTxxHNr6olXsjUd6IgIZ",
      "include_colab_link": true
    },
    "kernelspec": {
      "name": "python3",
      "display_name": "Python 3"
    },
    "language_info": {
      "name": "python"
    }
  },
  "cells": [
    {
      "cell_type": "markdown",
      "metadata": {
        "id": "view-in-github",
        "colab_type": "text"
      },
      "source": [
        "<a href=\"https://colab.research.google.com/github/evgeny-kolonsky/Lab3_MW/blob/main/Lab3_MW.ipynb\" target=\"_parent\"><img src=\"https://colab.research.google.com/assets/colab-badge.svg\" alt=\"Open In Colab\"/></a>"
      ]
    },
    {
      "cell_type": "markdown",
      "source": [
        "#Lab 3  Mechanical Waves\n",
        "\n",
        "Evgeny Kolonsky 2024\n",
        "\n",
        "v.0.1.12.1 propagation constant (series of waves:38)"
      ],
      "metadata": {
        "id": "qpcD9y05a3yD"
      }
    },
    {
      "cell_type": "code",
      "source": [
        "import numpy as np\n",
        "from scipy import linalg as LA\n",
        "from matplotlib import pyplot as plt\n",
        "from matplotlib.animation import FuncAnimation\n",
        "from IPython.display import HTML\n",
        "from scipy.signal import find_peaks"
      ],
      "metadata": {
        "id": "nLSp5LVG35HY"
      },
      "execution_count": 77,
      "outputs": []
    },
    {
      "cell_type": "markdown",
      "source": [
        "#Intro"
      ],
      "metadata": {
        "id": "T0T4lJoF38ax"
      }
    },
    {
      "cell_type": "markdown",
      "source": [
        "![overview](https://raw.githubusercontent.com/evgeny-kolonsky/Lab3_MW/refs/heads/main/mech_waves_overview.png)\n"
      ],
      "metadata": {
        "id": "Cl-StMQJ0w4E"
      }
    },
    {
      "cell_type": "markdown",
      "source": [
        "## Natural freqiencies"
      ],
      "metadata": {
        "id": "CqmH9x3I2Sbv"
      }
    },
    {
      "cell_type": "markdown",
      "source": [
        "Motion equataion for a system of $n$ chained osciallators with viscous friction in matrix form is\n",
        "$$\n",
        "M \\ddot x + B \\dot x + K x = 0\n",
        "$$\n",
        "here $M$ - moment inertia matrix, $B$ - friction coefficients matrix, $K$ - angle elastity matrix, $x$ - coordinates (rotation angles) vector.\n",
        "\n",
        "Coordinates vector $x$\n",
        "$$\n",
        "x =  \\begin{bmatrix}\n",
        "      x_1 \\\\\n",
        "      \\vdots\\\\\n",
        "      x_n \\end{bmatrix} ,\n",
        "$$\n",
        "\n",
        "Inertia matrix $M$\n",
        "$$\n",
        "M =  \\begin{bmatrix}\n",
        "      J_1 &     \\\\\n",
        "       &\\ddots & \\\\\n",
        "       &            & J_n\n",
        "      \\end{bmatrix} ,\n",
        "$$\n",
        "Friction matrix $B$\n",
        "$$\n",
        "B =  \\begin{bmatrix}\n",
        "      b_1 &     \\\\\n",
        "       &\\ddots & \\\\\n",
        "       &            & b_n\n",
        "      \\end{bmatrix} ,\n",
        "$$\n",
        "Elastity matrix $K$\n",
        "$$\n",
        "K =  \\begin{bmatrix}\n",
        "      2 k &  -k  &  &         \\\\\n",
        "      -k  &  2k  & -k &          \\\\\n",
        "         & -k   & 2k  & -k &         \\\\\n",
        "      & & &\\ddots & -k\\\\\n",
        "      & &         & -k & 2 k\n",
        "      \\end{bmatrix}\n",
        "$$\n",
        "\n",
        "If $E_i$ is eigenvectors  matrix and $\\lambda_i$  are eigenvalues of matrix $Z = M^{-1}  K$, then natural frequecnies $\\omega_i$ of the system are respective square roots of eigenvalues:\n",
        "$$\n",
        "\\omega_i^2 = \\lambda_i \\quad i = 1,\\cdots, n.\n",
        "$$\n",
        "\n"
      ],
      "metadata": {
        "id": "eMeumpej0UJK"
      }
    },
    {
      "cell_type": "code",
      "source": [
        "# System parameters\n",
        "# wide unit\n",
        "l = 456e-3  # length of a bar\n",
        "m = 43e-3   # mass of a bar\n",
        "J = m * l**2 / 12 # moment of inertia of a bar\n",
        "n = 72  # number of bars in the oscillation system\n",
        "\n",
        "k = 1.02 # elastity coeff\n",
        "\n",
        "K = k * np.diag(np.ones(n) * 2, 0) + \\\n",
        "    np.diag(-np.ones(n-1)   , 1) +  \\\n",
        "    np.diag(-np.ones(n-1)   ,-1)\n",
        "\n",
        "M = np.eye(n) * J\n",
        "\n",
        "\n",
        "\n",
        "\n",
        "Q = 120 # quality factor\n",
        "b =  np.sqrt(J*k) / Q # approx. friction coefficent (at least by order value)\n",
        "\n",
        "B = np.eye(n) * b\n",
        "\n",
        "\n",
        "\n",
        "Km  =  LA.inv(M) @ K\n",
        "Bm  =  LA.inv(M) @ B\n",
        "\n",
        "zeros = np.zeros((n,n))\n",
        "I     = np.eye(n)\n",
        "\n",
        "D = np.vstack([np.hstack([zeros,  I]),\n",
        "               np.hstack([-Km,   -Bm])] \\\n",
        "             )\n",
        "F = np.zeros(n)\n",
        "F2 = np.hstack([np.zeros(n), F])\n",
        "\n",
        "lambdas, E = LA.eig(Km)\n",
        "omega = np.sqrt(lambdas)\n",
        "\n",
        "freqs = np.real(omega) / 2 / np.pi\n",
        "\n",
        "print(f'Natural frequencies from {np.min(freqs):.2f} Hz to {np.max(freqs):.2f} Hz')"
      ],
      "metadata": {
        "colab": {
          "base_uri": "https://localhost:8080/"
        },
        "id": "3L-qkWSu1iFM",
        "outputId": "32b858b4-e593-4a99-c6d4-03a966c737d4"
      },
      "execution_count": 78,
      "outputs": [
        {
          "output_type": "stream",
          "name": "stdout",
          "text": [
            "Natural frequencies from 1.19 Hz to 11.72 Hz\n"
          ]
        }
      ]
    },
    {
      "cell_type": "markdown",
      "source": [
        "**Wave propagation** constant\n",
        "\n",
        "$$\n",
        "\\beta =  \\sqrt{\\frac{k}{J}}\n",
        "$$"
      ],
      "metadata": {
        "id": "TkxWH_20wv5u"
      }
    },
    {
      "cell_type": "code",
      "source": [
        "# the mechanical wave system\n",
        "L = 920e-3 # length of the system\n",
        "d = 1.27e-2  # m,distance between bars\n",
        "\n",
        "beta = np.sqrt(k/J)\n",
        "v = d * beta\n",
        "\n",
        "print(f'wave velocity expected {v*100:.0f} cm/s, {beta:.0f} bar/s')"
      ],
      "metadata": {
        "id": "xrRHdNYIwpKT",
        "outputId": "9e21faa1-fe61-4356-b3ab-be990f8e5361",
        "colab": {
          "base_uri": "https://localhost:8080/"
        }
      },
      "execution_count": 79,
      "outputs": [
        {
          "output_type": "stream",
          "name": "stdout",
          "text": [
            "wave velocity expected 47 cm/s, 37 bar/s\n"
          ]
        }
      ]
    },
    {
      "cell_type": "markdown",
      "source": [
        "Define **external force** profile"
      ],
      "metadata": {
        "id": "79RgsX8bwNkV"
      }
    },
    {
      "cell_type": "code",
      "source": [
        "# External harmonic force\n",
        "order = 12.8 # harmonic order\n",
        "freq_external = order * v /  4 / L # Hz, displacement frequency\n",
        "freq_external = 5 # Hz\n",
        "eta0 = 1.0 # radian    displacement amplitude\n",
        "print(f'external force frequency {freq_external:.2f} Hz')\n",
        "\n",
        "# initial beat at the right end\n",
        "eta = lambda t: np.sin(2*np.pi*freq_external*t) * eta0  #if t < 1/freq_external/2 else 0"
      ],
      "metadata": {
        "id": "9oJD9uFuwM65",
        "outputId": "6e54d515-5bb5-40f6-b03f-ae065c38627f",
        "colab": {
          "base_uri": "https://localhost:8080/"
        }
      },
      "execution_count": 80,
      "outputs": [
        {
          "output_type": "stream",
          "name": "stdout",
          "text": [
            "external force frequency 5.00 Hz\n"
          ]
        }
      ]
    },
    {
      "cell_type": "markdown",
      "source": [
        "\n",
        "**Numerical solution**\n",
        "\n",
        "We set up new **state variable** $z$:\n",
        "$$\n",
        "z =  [ x_1, \\cdots x_n, \\, \\dot x_1, \\cdots, \\dot x_n ] = [x, \\dot x]\n",
        "$$\n",
        "and it's derivative\n",
        "$$\n",
        "\\dot z =  [ \\dot x, \\ddot x ].\n",
        "$$\n",
        "\n",
        "The motion equation becomes state equation:\n",
        "$$\n",
        "\\dot z =\n",
        "\\begin{bmatrix}\n",
        "\\dot x\\\\\n",
        "\\ddot x\n",
        "\\end{bmatrix}\n",
        " =\n",
        "\\begin{bmatrix}\n",
        "0 & 1\\\\\n",
        "-M^{-1}K & 0\n",
        "\\end{bmatrix}\n",
        "\\begin{bmatrix}\n",
        "x\\\\\n",
        "\\dot x\n",
        "\\end{bmatrix}\n",
        "$$\n",
        "for no-friction no-forces case. Here $0$ and $1$ are zero and identity matricies respectively.\n",
        "\n",
        "The state equation with viscous friction and external forces will be\n",
        "$$\n",
        "\\dot z =\n",
        "\\begin{bmatrix}\n",
        "0 & 1\\\\\n",
        "-M^{-1}K & -M^{-1}B\n",
        "\\end{bmatrix}\n",
        "z\n",
        "+\n",
        "\\begin{bmatrix}\n",
        "0 \\\\\n",
        "M^{-1} F\n",
        "\\end{bmatrix}\n",
        "\\tag{1}\n",
        "$$\n",
        "\n",
        "State equation (1) enables iterative numerical solution by [Heun method](https://en.wikipedia.org/wiki/Heun%27s_method).\n"
      ],
      "metadata": {
        "id": "SN_Az_cDE5jE"
      }
    },
    {
      "cell_type": "code",
      "source": [
        "def state_derivative(state, time):\n",
        "  # state - array of x1 .. xn, v1.. vn\n",
        "  # x - coordinates and v - corresponding velocities\n",
        "  # ti - point of time. External force depends on time\n",
        "  zdot = D @ state\n",
        "  F2[n] = k * eta(time) / J  # applied only at leftmost point\n",
        "  zdot += F2\n",
        "  return zdot\n",
        "\n",
        "def heun_step(state, time, dt,etol=0.000001,maxiters = 100):\n",
        "    '''Update a state to the next time increment using the implicit Heun's method.\n",
        "\n",
        "    Arguments\n",
        "    ---------\n",
        "    state : array of dependent variables\n",
        "    dt    : float, time increment\n",
        "    etol  : tolerance in error for each time step corrector\n",
        "    maxiters: maximum number of iterations each time step can take\n",
        "\n",
        "    Returns\n",
        "    -------\n",
        "    next_state : array, updated after one time increment'''\n",
        "    e = 1\n",
        "    eps = np.finfo('float64').eps\n",
        "    next_state = state + state_derivative(state, time) * dt\n",
        "    ################### New iterative correction #########################\n",
        "    for n in range(0, maxiters):\n",
        "        next_state_old = next_state\n",
        "        next_state = state + (state_derivative(state, time) + state_derivative(next_state, time))/2*dt\n",
        "        e = np.sum(np.abs(next_state-next_state_old) / np.abs(next_state+eps))\n",
        "        if e < etol:\n",
        "            break\n",
        "    ############### end of iterative correction #########################\n",
        "    return next_state\n"
      ],
      "metadata": {
        "id": "yE8qktfT4Rpe"
      },
      "execution_count": 81,
      "outputs": []
    },
    {
      "cell_type": "markdown",
      "source": [
        "# Integrate numerically"
      ],
      "metadata": {
        "id": "irS5ZnppKF4P"
      }
    },
    {
      "cell_type": "code",
      "source": [
        "T = 2 * L / v # time to travel there and back again twice\n",
        "dt = 1 / np.max(freqs) / 4 # shortest period / 4\n",
        "\n",
        "\n",
        "t = np.arange(0, T, dt)\n",
        "N = len(t)  # steps in time\n",
        "print(f'Integrate for {N} steps {T:.1f} s')\n",
        "\n",
        "\n",
        "def integrate():\n",
        "  state = np.zeros((2 * n, N))\n",
        "\n",
        "  for i in range(0, N-1):\n",
        "      state[:,i+1] = heun_step(state[:,i], t[i], dt)\n",
        "  return state\n",
        "\n",
        "state = integrate()\n"
      ],
      "metadata": {
        "colab": {
          "base_uri": "https://localhost:8080/"
        },
        "id": "XhWeGO9fGDzJ",
        "outputId": "c764fa2b-e5f1-4aa1-c61a-695f93e3dff4"
      },
      "execution_count": 82,
      "outputs": [
        {
          "output_type": "stream",
          "name": "stdout",
          "text": [
            "Integrate for 184 steps 3.9 s\n"
          ]
        }
      ]
    },
    {
      "cell_type": "markdown",
      "source": [
        "**Animate**"
      ],
      "metadata": {
        "id": "GUKx63frKEJo"
      }
    },
    {
      "cell_type": "code",
      "source": [
        "fig, ax = plt.subplots(figsize=(20, 5))\n",
        "x = np.linspace(0, L, n)\n",
        "y = np.copy(state[:n, 0])\n",
        "y[0] = 1.0 * eta0 # vertical scale\n",
        "y[-1] = - y[0]\n",
        "bottom = 0\n",
        "h_stem = ax.stem(x, y, bottom=bottom,  linefmt='-', markerfmt='o', label='Time');\n",
        "legend = ax.legend(fontsize=\"20\", loc =\"upper left\") #Define legend objects\n",
        "ax.grid(axis='x')\n",
        "ax.set_xticks([0, L/2, L])\n",
        "\n",
        "def update(i):\n",
        "    y = state[:n, i]\n",
        "\n",
        "    # markerline\n",
        "    h_stem[0].set_ydata(y)\n",
        "    #h_stem[0].set_xdata(x)  # not necessary for constant x\n",
        "\n",
        "    # stemlines\n",
        "    h_stem[1].set_paths([np.array([[xx, bottom],\n",
        "                                   [xx, yy]]) for (xx, yy) in zip(x, y)])\n",
        "\n",
        "    # baseline\n",
        "    h_stem[2].set_xdata([np.min(x), np.max(x)])\n",
        "    #h_stem[2].set_ydata([bottom, bottom])  # not necessary for constant bottom\n",
        "    legend.get_texts()[0].set_text(f'{t[i]:.2f} s') #Update label each at frame\n",
        "\n",
        "anim = FuncAnimation(fig, update, frames=range(0, N,1), interval=1*dt)\n",
        "anim.save('so.gif', dpi=80)"
      ],
      "metadata": {
        "id": "gAi2ndLSl2Q7",
        "collapsed": true,
        "colab": {
          "base_uri": "https://localhost:8080/",
          "height": 194
        },
        "outputId": "d1360e9c-e14e-4c67-d00f-b1bb6740e592"
      },
      "execution_count": 83,
      "outputs": [
        {
          "output_type": "display_data",
          "data": {
            "text/plain": [
              "<Figure size 2000x500 with 1 Axes>"
            ],
            "image/png": "[encoded data removed]"
          },
          "metadata": {}
        }
      ]
    },
    {
      "cell_type": "code",
      "source": [],
      "metadata": {
        "id": "VyPO1LitAEO9"
      },
      "execution_count": 83,
      "outputs": []
    },
    {
      "cell_type": "markdown",
      "source": [
        "# Peaks analysis"
      ],
      "metadata": {
        "id": "5ASbwdLE1XxE"
      }
    },
    {
      "cell_type": "markdown",
      "source": [
        "Plot peaks development in time"
      ],
      "metadata": {
        "id": "xf-MLdZ9IUav"
      }
    },
    {
      "cell_type": "code",
      "source": [
        "from scipy.stats import linregress\n",
        "\n",
        "right_peaks = []\n",
        "for i, time in enumerate(t):\n",
        "  y = state[:n, i]\n",
        "  peaks, _ = find_peaks(np.sqrt(y*y), height=0.1)\n",
        "  if len(peaks) > 0:\n",
        "    right_peaks.append(np.max(peaks))\n",
        "  else:\n",
        "    right_peaks.append(0)\n",
        "\n",
        "right_peaks = np.array(right_peaks)\n",
        "plt.plot(t, right_peaks,'.')\n",
        "\n",
        "plt.xlabel('Series running waves propagation time (s)')\n",
        "plt.ylabel('peak position')\n",
        "\n",
        "mask = (0.12 < t) & (t < 1.0)\n",
        "# Convert the boolean mask to integer indices\n",
        "# Use the integer indices to select elements from right_peaks\n",
        "fit = linregress(t[mask], right_peaks[mask])\n",
        "plt.plot(t[mask], fit.slope * t[mask] + fit.intercept, label=f'{fit.slope:.1f} bar/s')\n",
        "\n",
        "mask = (1.05 < t) & (t < 1.9)\n",
        "# Convert the boolean mask to integer indices\n",
        "# Use the integer indices to select elements from right_peaks\n",
        "fit = linregress(t[mask], right_peaks[mask])\n",
        "plt.plot(t[mask], fit.slope * t[mask] + fit.intercept, label=f'{fit.slope:.1f} bar/s')\n",
        "\n",
        "mask = (2.0 < t) & (t < 2.3)\n",
        "# Convert the boolean mask to integer indices\n",
        "# Use the integer indices to select elements from right_peaks\n",
        "fit = linregress(t[mask], right_peaks[mask])\n",
        "plt.plot(t[mask], fit.slope * t[mask] + fit.intercept, label=f'{fit.slope:.1f} bar/s')\n",
        "\n",
        "plt.legend()\n",
        "\n",
        "#plt.xlim(0.3,1)\n",
        "#plt.ylim(0,30)\n",
        "plt.grid()"
      ],
      "metadata": {
        "colab": {
          "base_uri": "https://localhost:8080/",
          "height": 449
        },
        "id": "ok9KRKGLgUwm",
        "outputId": "aa0170b9-392b-47fe-dc5c-9fe7904b735a"
      },
      "execution_count": 90,
      "outputs": [
        {
          "output_type": "display_data",
          "data": {
            "text/plain": [
              "<Figure size 640x480 with 1 Axes>"
            ],
            "image/png": "[encoded data removed]"
          },
          "metadata": {}
        }
      ]
    },
    {
      "cell_type": "code",
      "source": [
        "def get_peaks(state):\n",
        "  right_peaks = np.array([])\n",
        "  for i, time in enumerate(t):\n",
        "    y = state[:n, i]  # focus on right half, far from actuator\n",
        "    peaks, _ = find_peaks(np.sqrt(y*y), height=0.1)\n",
        "    if len(peaks) > 0:\n",
        "      right_peaks = np.hstack([right_peaks, peaks])\n",
        "  return right_peaks\n",
        "\n",
        "freq_external = 1.15\n",
        "state = integrate()\n",
        "p = get_peaks(state)\n",
        "plt.hist(p, histtype='step', bins=np.arange(0,n)-0.5, density=True);\n",
        "\n",
        "freq_external = 1.4\n",
        "state = integrate()\n",
        "p = get_peaks(state)\n",
        "plt.hist(p, histtype='step', bins=np.arange(0,n)-0.5, density=True);\n",
        "\n",
        "freq_external = 2.17\n",
        "state = integrate()\n",
        "p = get_peaks(state)\n",
        "plt.hist(p, histtype='step', bins=np.arange(0,n)-0.5, density=True);\n"
      ],
      "metadata": {
        "collapsed": true,
        "colab": {
          "base_uri": "https://localhost:8080/",
          "height": 430
        },
        "id": "-x2lIYcZh-_M",
        "outputId": "167afbee-980a-4aab-bae2-42aecddfe07f"
      },
      "execution_count": 85,
      "outputs": [
        {
          "output_type": "display_data",
          "data": {
            "text/plain": [
              "<Figure size 640x480 with 1 Axes>"
            ],
            "image/png": "[encoded data removed]"
          },
          "metadata": {}
        }
      ]
    },
    {
      "cell_type": "markdown",
      "source": [
        "**References**\n",
        "\n",
        "Charles G. Torre\n",
        "Department of Physics, Utah State University\n",
        "04 Linear Chain of Coupled Oscillators [.pdf](https://digitalcommons.usu.edu/foundation_wave/19/)\n",
        "\n",
        "\n",
        "Computational Mechanics 5 - Good Vibrations [.ipynb](https://cooperrc.github.io/computational-mechanics/module_05/03_Good_Vibrations.html#./02_Keep_it_steady.ipynb)"
      ],
      "metadata": {
        "id": "N__WybXhxMDr"
      }
    },
    {
      "cell_type": "code",
      "source": [
        "for order in range(5, 19, 2):\n",
        "  print(f'{order=} f ={order * v /  4 / L:.2f}') # Hz, displacement frequency\n"
      ],
      "metadata": {
        "colab": {
          "base_uri": "https://localhost:8080/"
        },
        "id": "17hb5-hPjg2U",
        "outputId": "503f70d9-10fc-4036-a58b-f224a81930f9"
      },
      "execution_count": 86,
      "outputs": [
        {
          "output_type": "stream",
          "name": "stdout",
          "text": [
            "order=5 f =0.64\n",
            "order=7 f =0.89\n",
            "order=9 f =1.15\n",
            "order=11 f =1.40\n",
            "order=13 f =1.66\n",
            "order=15 f =1.92\n",
            "order=17 f =2.17\n"
          ]
        }
      ]
    },
    {
      "cell_type": "code",
      "source": [],
      "metadata": {
        "id": "3u-IFsJR65Ww"
      },
      "execution_count": 86,
      "outputs": []
    }
  ]
}