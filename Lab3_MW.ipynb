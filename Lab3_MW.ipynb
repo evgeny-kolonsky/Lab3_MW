{
  "nbformat": 4,
  "nbformat_minor": 0,
  "metadata": {
    "colab": {
      "provenance": [],
      "authorship_tag": "ABX9TyPJDY7piGqxJc3D1JTnHMcr",
      "include_colab_link": true
    },
    "kernelspec": {
      "name": "python3",
      "display_name": "Python 3"
    },
    "language_info": {
      "name": "python"
    }
  },
  "cells": [
    {
      "cell_type": "markdown",
      "metadata": {
        "id": "view-in-github",
        "colab_type": "text"
      },
      "source": [
        "<a href=\"https://colab.research.google.com/github/evgeny-kolonsky/Lab3_MW/blob/main/Lab3_MW.ipynb\" target=\"_parent\"><img src=\"https://colab.research.google.com/assets/colab-badge.svg\" alt=\"Open In Colab\"/></a>"
      ]
    },
    {
      "cell_type": "markdown",
      "source": [
        "#Lab 3  Mechanical Waves\n",
        "\n",
        "Ebgeny Kolonsky 2024\n",
        "\n",
        "v.0.1.0"
      ],
      "metadata": {
        "id": "qpcD9y05a3yD"
      }
    },
    {
      "cell_type": "code",
      "execution_count": null,
      "metadata": {
        "id": "pGf2HH-ma0Bp"
      },
      "outputs": [],
      "source": [
        "import numpy as np\n",
        "from scipy import linalg as LA\n",
        "from matplotlib import pyplot as plt\n",
        "from matplotlib import animation\n",
        "from IPython.display import HTML"
      ]
    },
    {
      "cell_type": "markdown",
      "source": [
        "https://lpsa.swarthmore.edu/MtrxVibe/MatrixAll.html\n",
        "\n",
        "https://cooperrc.github.io/computational-mechanics/module_05/03_Good_Vibrations.html#./02_Keep_it_steady.ipynb\n"
      ],
      "metadata": {
        "id": "eMeumpej0UJK"
      }
    },
    {
      "cell_type": "markdown",
      "source": [
        "Constants and parameters"
      ],
      "metadata": {
        "id": "lQezbGWZuWRk"
      }
    },
    {
      "cell_type": "code",
      "source": [
        "# single rod\n",
        "l = 500e-3 # length of rod\n",
        "d = 3e-3   # diameter of rod\n",
        "rho = 7850 # kg/m^3 # density of metal\n",
        "m = np.pi * d**2 * rho / 4 * l # mass of rod\n",
        "J = m * l**2 / 12 # moment of inertia of rod\n",
        "\n",
        "# the mechanical wave system\n",
        "L = 1000e-3 # length of the system\n",
        "g = 9.8 # grav const\n",
        "n = 2 # number of elements in rotational oscillations system\n",
        "\n",
        "# k can be found from static\n",
        "Fstatic = 1 # newton, force applied to the end of the rod\n",
        "theta_static = 1 # radian\n",
        "k = Fstatic * l / 2 / theta_static\n"
      ],
      "metadata": {
        "id": "8UEAPSxCufF5"
      },
      "execution_count": null,
      "outputs": []
    },
    {
      "cell_type": "markdown",
      "source": [
        "Model equations\n",
        "\n",
        "$$\n",
        "M_i \\ddot{\\theta_i}  -k\\theta_{i-1} + 2 k \\theta_i - k \\theta_{i+1} = 0, \\quad i = 1 \\dots n-1\n",
        "$$\n",
        "\n",
        "Boundary conditions\n",
        "\n",
        "Forced harmonic oscillation\n",
        "$$\n",
        "\\theta_0(t) = \\eta_0 \\, e^{i \\omega t}\n",
        "$$\n",
        "\n",
        "The other end is fixed\n",
        "$$\n",
        "\\theta_n = 0\n",
        "$$\n",
        "\n",
        "Coordinates vector\n",
        "$$\n",
        "\\Theta =  \\begin{bmatrix}\n",
        "      \\theta_1 \\\\\n",
        "      \\vdots\\\\\n",
        "      \\theta_n \\end{bmatrix} ,\n",
        "$$\n",
        "\n",
        "Inertia matrix\n",
        "$$\n",
        "M =  \\begin{bmatrix}\n",
        "      M_1 &     \\\\\n",
        "       &\\ddots & \\\\\n",
        "       &            & M_n\n",
        "      \\end{bmatrix} ,\n",
        "$$\n",
        "Elastity matrix\n",
        "$$\n",
        "K =  \\begin{bmatrix}\n",
        "      2 k &  -k  &  &         \\\\\n",
        "      -k  &  2k  & -k &          \\\\\n",
        "         & -k   & 2k  & -k &         \\\\\n",
        "      & & &\\ddots & -k\\\\\n",
        "      & &         & -k & 2 k\n",
        "      \\end{bmatrix}\n",
        "$$\n",
        "\n",
        "External forces vector\n",
        "$$\n",
        "F =  \\begin{bmatrix}\n",
        "      \\eta_0 k \\\\\n",
        "      \\vdots\\\\\n",
        "      0 \\end{bmatrix} ,\n",
        "$$\n",
        "\n",
        "Motion equitaion in matrix form\n",
        "$$\n",
        "I \\ddot \\Theta + K \\Theta = F \\, e^{i\\omega t}\n",
        "$$\n",
        "\n",
        "$$\n",
        "Z = M^{-1}  K\n",
        "$$\n",
        "Eigenvalues $\\lambda$ are solution of equation\n",
        "$$\n",
        "\\det |Z - \\lambda I| = 0\n",
        "$$\n",
        "\n",
        "Eigenfrequencies are squares of eigenvalues\n",
        "$$\n",
        "\\omega_i^2 = -\\lambda_i\n",
        "$$\n",
        "\n",
        "$$\n",
        "\\Theta(t) = \\sum A_k E_k e^{i \\omega_k t}\n",
        "$$\n",
        "\n",
        "$$\n",
        "\\Theta(0) = A E, \\quad A = \\Theta(0) E^{-1}\n",
        "$$\n"
      ],
      "metadata": {
        "id": "4Q71Psgdbi-z"
      }
    },
    {
      "cell_type": "code",
      "source": [],
      "metadata": {
        "id": "sFosyni6jFGf"
      },
      "execution_count": null,
      "outputs": []
    },
    {
      "cell_type": "code",
      "source": [
        "K = k * np.diag(np.ones(n) * 2, 0) + \\\n",
        "    np.diag(-np.ones(n-1)   , 1) +  \\\n",
        "    np.diag(-np.ones(n-1)   ,-1)\n",
        "\n",
        "M = np.diag(np.ones(n) * J)\n",
        "\n",
        "Z = LA.inv(M) @ K\n",
        "\n",
        "X0 = np.zeros(n)\n",
        "X0[0] = 1\n",
        "\n",
        "lambdas, E = LA.eig(Z)\n",
        "isort = np.argsort(lambdas.real)\n",
        "lambdas = lambdas[isort]\n",
        "E = E[:,isort]\n",
        "omega = np.sqrt(lambdas)\n",
        "\n",
        "A = X0 @ LA.inv(E) # amplitudes\n"
      ],
      "metadata": {
        "id": "3uc8kKqaa9r3"
      },
      "execution_count": null,
      "outputs": []
    },
    {
      "cell_type": "code",
      "source": [
        "t = 0\n",
        "Et = np.array([E[:, k] * np.exp(1j * omega[k] * t) for k in range(n)])\n",
        "X = A @ Et\n",
        "plt.stem(X)\n",
        "plt.ylim(-1,1)"
      ],
      "metadata": {
        "colab": {
          "base_uri": "https://localhost:8080/",
          "height": 556
        },
        "id": "Tw89kghKqGlj",
        "outputId": "dbbdf7f1-9585-4c15-88f5-945db5c8e1d6"
      },
      "execution_count": null,
      "outputs": [
        {
          "output_type": "stream",
          "name": "stderr",
          "text": [
            "/usr/local/lib/python3.10/dist-packages/matplotlib/cbook.py:1699: ComplexWarning: Casting complex values to real discards the imaginary part\n",
            "  return math.isfinite(val)\n",
            "/usr/local/lib/python3.10/dist-packages/numpy/ma/core.py:3387: ComplexWarning: Casting complex values to real discards the imaginary part\n",
            "  _data[indx] = dval\n",
            "/usr/local/lib/python3.10/dist-packages/matplotlib/cbook.py:1345: ComplexWarning: Casting complex values to real discards the imaginary part\n",
            "  return np.asarray(x, float)\n"
          ]
        },
        {
          "output_type": "execute_result",
          "data": {
            "text/plain": [
              "(-1.0, 1.0)"
            ]
          },
          "metadata": {},
          "execution_count": 43
        },
        {
          "output_type": "display_data",
          "data": {
            "text/plain": [
              "<Figure size 640x480 with 1 Axes>"
            ],
            "image/png": "[encoded data removed]"
          },
          "metadata": {}
        }
      ]
    },
    {
      "cell_type": "code",
      "source": [
        "Et -E"
      ],
      "metadata": {
        "colab": {
          "base_uri": "https://localhost:8080/"
        },
        "id": "gAi2ndLSl2Q7",
        "outputId": "26f74869-4f52-4007-e7a6-abbbbe172b62"
      },
      "execution_count": null,
      "outputs": [
        {
          "output_type": "execute_result",
          "data": {
            "text/plain": [
              "array([[0.+0.j, 0.+0.j],\n",
              "       [0.+0.j, 0.+0.j]])"
            ]
          },
          "metadata": {},
          "execution_count": 44
        }
      ]
    },
    {
      "cell_type": "code",
      "source": [],
      "metadata": {
        "colab": {
          "base_uri": "https://localhost:8080/"
        },
        "id": "V0Iy5mr2mdBD",
        "outputId": "a378b827-e0bd-4773-cf5b-c211ce6d3665"
      },
      "execution_count": null,
      "outputs": [
        {
          "output_type": "execute_result",
          "data": {
            "text/plain": [
              "array([ 0.        +29.41166393j, 50.94249626 +0.j        ])"
            ]
          },
          "metadata": {},
          "execution_count": 45
        }
      ]
    },
    {
      "cell_type": "code",
      "source": [
        "lambdas"
      ],
      "metadata": {
        "colab": {
          "base_uri": "https://localhost:8080/"
        },
        "id": "_E7Rb1nbm_qa",
        "outputId": "5b142e0d-f720-49e7-df53-b0b94933d756"
      },
      "execution_count": null,
      "outputs": [
        {
          "output_type": "execute_result",
          "data": {
            "text/plain": [
              "array([-865.04597519+0.j, 2595.13792557+0.j])"
            ]
          },
          "metadata": {},
          "execution_count": 46
        }
      ]
    },
    {
      "cell_type": "code",
      "source": [],
      "metadata": {
        "id": "cq1Za76co388"
      },
      "execution_count": null,
      "outputs": []
    }
  ]
}