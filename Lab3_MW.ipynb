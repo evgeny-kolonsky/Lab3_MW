{
  "nbformat": 4,
  "nbformat_minor": 0,
  "metadata": {
    "colab": {
      "provenance": [],
      "authorship_tag": "ABX9TyNNd2iQ1kzNTZs0ZVsJl2rZ",
      "include_colab_link": true
    },
    "kernelspec": {
      "name": "python3",
      "display_name": "Python 3"
    },
    "language_info": {
      "name": "python"
    }
  },
  "cells": [
    {
      "cell_type": "markdown",
      "metadata": {
        "id": "view-in-github",
        "colab_type": "text"
      },
      "source": [
        "<a href=\"https://colab.research.google.com/github/evgeny-kolonsky/Lab3_MW/blob/main/Lab3_MW.ipynb\" target=\"_parent\"><img src=\"https://colab.research.google.com/assets/colab-badge.svg\" alt=\"Open In Colab\"/></a>"
      ]
    },
    {
      "cell_type": "markdown",
      "source": [
        "#Lab 3  Mechanical Waves\n",
        "\n",
        "Evgeny Kolonsky 2024\n",
        "\n",
        "v.0.1.5"
      ],
      "metadata": {
        "id": "qpcD9y05a3yD"
      }
    },
    {
      "cell_type": "code",
      "execution_count": 3,
      "metadata": {
        "id": "pGf2HH-ma0Bp"
      },
      "outputs": [],
      "source": [
        "import numpy as np\n",
        "from scipy import linalg as LA\n",
        "from matplotlib import pyplot as plt\n",
        "from matplotlib.animation import FuncAnimation\n",
        "from IPython.display import HTML"
      ]
    },
    {
      "cell_type": "markdown",
      "source": [
        "https://lpsa.swarthmore.edu/MtrxVibe/MatrixAll.html\n",
        "\n",
        "https://cooperrc.github.io/computational-mechanics/module_05/03_Good_Vibrations.html#./02_Keep_it_steady.ipynb\n"
      ],
      "metadata": {
        "id": "eMeumpej0UJK"
      }
    },
    {
      "cell_type": "markdown",
      "source": [
        "Motion equataion for a system without energy losses in matrix form is\n",
        "$$\n",
        "M \\ddot x + K x = F\n",
        "$$\n",
        "here $M$ - moment inertia matrix, $F$ - angle elastity matrix, $F$ -  external force moments vector, $x$ - coordinates (rotation angles) vector.\n",
        "\n",
        "Boundary conditions\n",
        "\n",
        "The left end is drived by external driver\n",
        "$$\n",
        "x_0(t) = \\eta(t)\n",
        "$$\n",
        "\n",
        "Coordinates vector $x$\n",
        "$$\n",
        "x =  \\begin{bmatrix}\n",
        "      x_1 \\\\\n",
        "      \\vdots\\\\\n",
        "      x_n \\end{bmatrix} ,\n",
        "$$\n",
        "\n",
        "Inertia matrix $M$\n",
        "$$\n",
        "M =  \\begin{bmatrix}\n",
        "      J_1 &     \\\\\n",
        "       &\\ddots & \\\\\n",
        "       &            & J_n\n",
        "      \\end{bmatrix} ,\n",
        "$$\n",
        "Elastity matrix $K$\n",
        "$$\n",
        "K =  \\begin{bmatrix}\n",
        "      2 k &  -k  &  &         \\\\\n",
        "      -k  &  2k  & -k &          \\\\\n",
        "         & -k   & 2k  & -k &         \\\\\n",
        "      & & &\\ddots & -k\\\\\n",
        "      & &         & -k & 2 k\n",
        "      \\end{bmatrix}\n",
        "$$\n",
        "\n",
        "\n",
        "If $E_i$ is eigenvectors  and $\\lambda_i$  is eigenvalue of matrix $Z = M^{-1}  K$, then natural frequecnies are\n",
        "$$\n",
        "\\omega_i = \\sqrt\\lambda_i \\quad i = 1,\\cdots, n.\n",
        "$$\n",
        "\n",
        "Set up new **state variable** $z$:\n",
        "\n",
        "$$\n",
        "z =  [ x_1, \\cdots x_n, \\, \\dot x_1, \\cdots, \\dot x_n ] = [x, \\dot x]\n",
        "$$\n",
        "it's derivative\n",
        "$$\n",
        "\\dot z =  [ \\dot x, \\ddot x ] ,\n",
        "$$\n",
        "and state equation\n",
        "$$\n",
        "\\dot z =\n",
        "\\begin{bmatrix}\n",
        "\\dot x\\\\\n",
        "\\ddot x\n",
        "\\end{bmatrix}\n",
        " =\n",
        "\\begin{bmatrix}\n",
        "0 & I\\\\\n",
        "-M^{-1}K & 0\n",
        "\\end{bmatrix}\n",
        "\\begin{bmatrix}\n",
        "x\\\\\n",
        "\\dot x\n",
        "\\end{bmatrix}\n",
        "$$\n",
        "Here $I$ - identity matrix.\n",
        "\n",
        "The state equation with viscous friction forces will be\n",
        "$$\n",
        "\\dot z =\n",
        "\\begin{bmatrix}\n",
        "0 & I\\\\\n",
        "-M^{-1}K & -M^{-1}B\n",
        "\\end{bmatrix}\n",
        "z,\n",
        "$$\n",
        "where diagonal elements of $B$ are respective friction coefficients\n",
        "$$\n",
        "B =  \\begin{bmatrix}\n",
        "      b_1 &     \\\\\n",
        "       &\\ddots & \\\\\n",
        "       &            & b_n\n",
        "      \\end{bmatrix} ,\n",
        "$$\n",
        "in motion differential equation\n",
        "$$\n",
        "M \\ddot x  + B \\dot x + K x = F\n",
        "$$\n"
      ],
      "metadata": {
        "id": "SN_Az_cDE5jE"
      }
    },
    {
      "cell_type": "markdown",
      "source": [
        "Constants and parameters"
      ],
      "metadata": {
        "id": "lQezbGWZuWRk"
      }
    },
    {
      "cell_type": "code",
      "source": [
        "# single rod\n",
        "l = 456e-3  # length of bar\n",
        "m = 42e-3   # mass of bar\n",
        "J = m * l**2 / 12 # moment of inertia of bar\n",
        "\n",
        "# the mechanical wave system\n",
        "L = 920e-3 # length of the system\n",
        "n = 72 # number of elements in rotational oscillations system\n",
        "d = L / n # distance between bars\n",
        "\n",
        "k = 1.02 # elastity coeff\n",
        "b = 0.0002 # friction coefficent\n",
        "\n",
        "v = d * np.sqrt(k/J)\n",
        "print(f'wave velocity expected {v*100:.0f} cm/s')"
      ],
      "metadata": {
        "id": "8UEAPSxCufF5",
        "colab": {
          "base_uri": "https://localhost:8080/"
        },
        "outputId": "b6c2031e-c38c-4e63-a842-1c435cd69e74"
      },
      "execution_count": 41,
      "outputs": [
        {
          "output_type": "stream",
          "name": "stdout",
          "text": [
            "wave velocity expected 48 cm/s\n"
          ]
        }
      ]
    },
    {
      "cell_type": "code",
      "source": [
        "K = k * np.diag(np.ones(n) * 2, 0) + \\\n",
        "    np.diag(-np.ones(n-1)   , 1) +  \\\n",
        "    np.diag(-np.ones(n-1)   ,-1)\n",
        "\n",
        "M = np.eye(n) * J\n",
        "\n",
        "B = np.eye(n) * b\n",
        "\n",
        "\n",
        "\n",
        "zeros = np.zeros((n,n))\n",
        "I     = np.eye(n)\n",
        "Km    =  LA.inv(M) @ K\n",
        "Bm    =  LA.inv(M) @ B\n",
        "\n",
        "D = np.vstack([np.hstack([zeros,  I]),\n",
        "               np.hstack([-Km,   -Bm])] \\\n",
        "             )\n",
        "\n",
        "def state_derivative(state):\n",
        "  # state - array of x1 .. xn, v1.. vn\n",
        "  # x - coordinates and v - corresponding velocities\n",
        "\n",
        "  return D @ state\n",
        "\n",
        "def heun_step(state, dt,etol=0.000001,maxiters = 100):\n",
        "    '''Update a state to the next time increment using the implicit Heun's method.\n",
        "\n",
        "    Arguments\n",
        "    ---------\n",
        "    state : array of dependent variables\n",
        "    dt    : float, time increment\n",
        "    etol  : tolerance in error for each time step corrector\n",
        "    maxiters: maximum number of iterations each time step can take\n",
        "\n",
        "    Returns\n",
        "    -------\n",
        "    next_state : array, updated after one time increment'''\n",
        "    e=1\n",
        "    eps=np.finfo('float64').eps\n",
        "    next_state = state + state_derivative(state) * dt\n",
        "    ################### New iterative correction #########################\n",
        "    for n in range(0,maxiters):\n",
        "        next_state_old = next_state\n",
        "        next_state = state + (state_derivative(state) + state_derivative(next_state))/2*dt\n",
        "        e = np.sum(np.abs(next_state-next_state_old)/np.abs(next_state+eps))\n",
        "        if e < etol:\n",
        "            break\n",
        "    ############### end of iterative correction #########################\n",
        "    return next_state\n"
      ],
      "metadata": {
        "id": "-MxRMbfg9_R9"
      },
      "execution_count": 42,
      "outputs": []
    },
    {
      "cell_type": "code",
      "source": [
        "lambdas, E = LA.eig(Km)\n",
        "omega = np.sqrt(lambdas)\n",
        "\n",
        "freqs = np.real(omega) / 2 / np.pi\n",
        "\n",
        "print(f'Natural frequencies from {np.min(freqs):.2f} Hz to {np.max(freqs):.2f} Hz')"
      ],
      "metadata": {
        "id": "3uc8kKqaa9r3",
        "outputId": "53904649-f49e-4ac8-b027-c9eb684c2d70",
        "colab": {
          "base_uri": "https://localhost:8080/"
        }
      },
      "execution_count": 43,
      "outputs": [
        {
          "output_type": "stream",
          "name": "stdout",
          "text": [
            "Natural frequencies from 1.21 Hz to 11.86 Hz\n"
          ]
        }
      ]
    },
    {
      "cell_type": "code",
      "source": [
        "T  = 4 / np.min(freqs) # 4 x longest period\n",
        "T = 4 * L / v # time to travel there and back again twice\n",
        "dt = 1 / np.max(freqs) /10 # shortest period / 10, at least ten steps\n",
        "dt = 1 / np.max(freqs) / 4 # to optimize execution sligtly\n",
        "\n",
        "t = np.arange(0, T, dt)\n",
        "N = len(t)  # steps in time\n",
        "\n",
        "\n",
        "# initial state\n",
        "\n",
        "# two half-waves on the ends\n",
        "n1 = int(n /6)\n",
        "#sin_wave = np.array([np.sin(np.pi *i / n1) for i in range(n)])\n",
        "#sin_wave[int(n/2):] = - sin_wave[int(n/2):][::-1]\n",
        "#sin_wave[n1: n-n1] = 0\n",
        "\n",
        "# half-wave on the left end\n",
        "cos_wave = np.zeros(n)\n",
        "n1 = int(n /6)\n",
        "for i in range(n1):\n",
        "  cos_wave[i] = np.cos(np.pi *i / 2 /n1 )\n",
        "# symmetric half-wave on the right end\n",
        "for i in range(n1):\n",
        "  cos_wave[-i] = np.cos(np.pi *i / 2 /n1 )\n",
        "\n",
        "\n",
        "\n",
        "\n",
        "state = np.zeros((2 * n, N))\n",
        "state[:n, 0] = 0.1 * cos_wave  # set initial condition\n",
        "\n",
        "for i in range(0, N-1):\n",
        "    state[:,i+1] = heun_step(state[:,i], dt)"
      ],
      "metadata": {
        "id": "Tw89kghKqGlj"
      },
      "execution_count": 49,
      "outputs": []
    },
    {
      "cell_type": "code",
      "source": [
        "fig, ax = plt.subplots(figsize=(20, 5))\n",
        "x = np.linspace(0, L, n)\n",
        "y = np.copy(state[:n, 0])\n",
        "y[0] = np.max(np.abs(y))\n",
        "y[-1] = -y[0]\n",
        "bottom = 0\n",
        "h_stem = ax.stem(x, y, bottom=bottom,  linefmt='-', markerfmt='o', label='Time');\n",
        "legend = ax.legend(fontsize=\"20\", loc =\"upper left\") #Define legend objects\n",
        "\n",
        "def update(i):\n",
        "    y = state[:n, i]\n",
        "\n",
        "    # markerline\n",
        "    h_stem[0].set_ydata(y)\n",
        "    h_stem[0].set_xdata(x)  # not necessary for constant x\n",
        "\n",
        "    # stemlines\n",
        "    h_stem[1].set_paths([np.array([[xx, bottom],\n",
        "                                   [xx, yy]]) for (xx, yy) in zip(x, y)])\n",
        "\n",
        "    # baseline\n",
        "    h_stem[2].set_xdata([np.min(x), np.max(x)])\n",
        "    h_stem[2].set_ydata([bottom, bottom])  # not necessary for constant bottom\n",
        "    legend.get_texts()[0].set_text(f'{t[i]:.2f} s') #Update label each at frame\n",
        "\n",
        "anim = FuncAnimation(fig, update, frames=range(0,N,2), interval=2*dt)\n",
        "anim.save('so.gif', dpi=80)"
      ],
      "metadata": {
        "colab": {
          "base_uri": "https://localhost:8080/",
          "height": 309
        },
        "id": "gAi2ndLSl2Q7",
        "outputId": "a7d27e86-40f9-4dc2-cfa3-e6f5e1673dcb"
      },
      "execution_count": 50,
      "outputs": [
        {
          "output_type": "display_data",
          "data": {
            "text/plain": [
              "<Figure size 2000x500 with 1 Axes>"
            ],
            "image/png": "[encoded data removed]"
          },
          "metadata": {}
        }
      ]
    },
    {
      "cell_type": "code",
      "source": [
        "L / 1.92"
      ],
      "metadata": {
        "id": "AplCWgbVx0-3",
        "outputId": "50400f25-e342-4ead-d94b-f4fad9dc2fbc",
        "colab": {
          "base_uri": "https://localhost:8080/"
        }
      },
      "execution_count": null,
      "outputs": [
        {
          "output_type": "execute_result",
          "data": {
            "text/plain": [
              "0.4791666666666667"
            ]
          },
          "metadata": {},
          "execution_count": 8
        }
      ]
    },
    {
      "cell_type": "code",
      "source": [],
      "metadata": {
        "id": "VyPO1LitAEO9"
      },
      "execution_count": null,
      "outputs": []
    }
  ]
}